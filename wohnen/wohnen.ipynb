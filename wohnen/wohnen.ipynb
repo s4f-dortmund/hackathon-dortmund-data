{
 "cells": [
  {
   "cell_type": "code",
   "execution_count": null,
   "id": "e825e4aa-b3fe-40f9-9a54-ba9996a36493",
   "metadata": {},
   "outputs": [],
   "source": [
    "import pathlib\n",
    "\n",
    "import pandas as pd\n",
    "import matplotlib.pyplot as plt\n",
    "import plotly.express as px"
   ]
  },
  {
   "cell_type": "code",
   "execution_count": null,
   "id": "f7d2b99a-b8d1-4527-bbe5-d18b2aaaec8c",
   "metadata": {},
   "outputs": [],
   "source": [
    "datapath = pathlib.Path(\"./data\")"
   ]
  },
  {
   "cell_type": "code",
   "execution_count": null,
   "id": "74b5c212-370a-46fd-9860-9ec68be7966b",
   "metadata": {},
   "outputs": [],
   "source": [
    "csv_files = sorted(datapath.glob(\"*.csv\"))"
   ]
  },
  {
   "cell_type": "code",
   "execution_count": null,
   "id": "9607dc1b-f3c1-4183-9e83-60b007a7484e",
   "metadata": {},
   "outputs": [],
   "source": [
    "csv_files"
   ]
  },
  {
   "cell_type": "code",
   "execution_count": null,
   "id": "a677b4c9-8c98-4139-854a-1ae8e29c59c7",
   "metadata": {},
   "outputs": [],
   "source": [
    "df_bevolkerung = pd.read_csv(csv_files[0], sep=\";\").set_index(\"Jahr\")\n",
    "df_bevolkerung.columns = [\"Insgesamt\", \"männlich_absolut\", \"männlich_relativ\", \"weiblich_absolut\", \"weiblich_relativ\"]\n",
    "\n",
    "df_wohnungen = pd.read_csv(csv_files[1], sep=\";\", decimal=\",\").set_index(\"Jahr\")\n",
    "df_wohnungen.columns = [\"Gebäude\", \"Wohnungen\", \"Belegungsziffer\"]\n",
    "\n",
    "df_fordervolumen = pd.read_csv(csv_files[2], sep=\";\", na_values=[\"-\"]).fillna(0).set_index(\"Jahr\")\n",
    "df_fordervolumen.columns = [\"Mietwohnungen\", \"Häuser\", \"Wohnheimplätze\", \"Flüchtlinge_Mietwohnungen\", \"Flüchtlinge_Häuser\", \"Modernisierung\", \"Pflegewohnheim\", \"Studierende\", \"Eigentum\", \"Insgesamt\"]\n",
    "\n",
    "df_fordereinheiten = pd.read_csv(csv_files[3], sep=\";\").set_index(\"Jahr\")\n",
    "df_fordereinheiten.columns = [\"Mietwohnungen\", \"Häuser\", \"Wohnheimplätze\", \"Flüchtlinge_Mietwohnungen\", \"Flüchtlinge_Häuser\", \"Modernisierung\", \"Pflegewohnheim\", \"Studierende\", \"Eigentum\", \"Insgesamt\"]\n",
    "\n",
    "df_zuzug = pd.read_csv(csv_files[4], sep=\";\").set_index(\"Jahr\")\n",
    "df_zuzug.columns = [\"Geburten\", \"Sterbefälle\", \"Geburtenbilanz\", \"Zuzug\", \"Fortzug\", \"Wanderungsbilanz\"]"
   ]
  },
  {
   "cell_type": "markdown",
   "id": "a68e15c7-bbd2-4227-9cd5-448d4ad6ab62",
   "metadata": {},
   "source": [
    "## Infos\n",
    "\n",
    "* 2017 und 2020 wurden Studienwohnheime gefördert\n",
    "* Land NRW entscheidet über Fördermaßnahmen, mglw. Betrachtung auf Landesebene noch interessant"
   ]
  },
  {
   "cell_type": "markdown",
   "id": "1ceb808a-4561-4168-b004-c8d33306f634",
   "metadata": {},
   "source": [
    "## Fragen\n",
    "\n",
    "* Ist das Fördervolumen einer Fördermaßnahme abhängig von den aktuellen Marktpreisen für Gebäudebau?\n",
    "* Ist das Fördervolumen einer Modernisierungsmaßnahme abhängig von der Höhe der Modernisierungskosten?\n",
    "* Haben sich die förderbaren Maßnahmen verändert?\n",
    "* Kommen wir irgendwie an Daten zu durchschnittlichen Wohnflächen? (m2)\n",
    "* Wie entwickelt sich die Fläche des gesamten Wohnungsneubaus?\n",
    "* Wie ist der Haushalt von Dortmund aufgestellt? Gibt es da Einsparpotential in verschiedenen Bereichen?"
   ]
  },
  {
   "cell_type": "code",
   "execution_count": null,
   "id": "69c14eed-17c9-438f-bcff-ee56202134f5",
   "metadata": {},
   "outputs": [],
   "source": [
    "df_fordervolumen[\"Insgesamt\"].plot.bar()\n",
    "plt.ylabel(\"Fördervolumen insgesamt / €\")"
   ]
  },
  {
   "cell_type": "code",
   "execution_count": null,
   "id": "c07c6a4c-6f33-408d-84ac-9f7b3cb91bfb",
   "metadata": {},
   "outputs": [],
   "source": [
    "df_fordereinheiten[\"Insgesamt\"].plot.bar()\n",
    "plt.ylabel(\"Anzahl Fördereinheien insgesamt\")"
   ]
  },
  {
   "cell_type": "code",
   "execution_count": null,
   "id": "1a89932a-cb98-45f3-8cf1-f1cf941c6f6b",
   "metadata": {},
   "outputs": [],
   "source": [
    "(df_fordervolumen[\"Insgesamt\"] / df_fordereinheiten[\"Insgesamt\"]).plot.bar()\n",
    "plt.ylabel(\"Fördervolumen pro Fördereinheit / €\")\n",
    "plt.title(\"Insgesamt\")"
   ]
  },
  {
   "cell_type": "markdown",
   "id": "ae5ffa09-4112-43b0-a8e5-27dc7985b08b",
   "metadata": {},
   "source": [
    "ohne Studienwohnheime"
   ]
  },
  {
   "cell_type": "code",
   "execution_count": null,
   "id": "6e5331b8-def8-4cfa-a40b-bee6c24c2295",
   "metadata": {},
   "outputs": [],
   "source": [
    "((df_fordervolumen[\"Insgesamt\"] - df_fordervolumen[\"Studierende\"]) / (df_fordereinheiten[\"Insgesamt\"] - df_fordereinheiten[\"Studierende\"])).plot.bar()\n",
    "plt.ylabel(\"Fördervolumen pro Fördereinheit / €\")\n",
    "plt.title(\"Ohne Studierendenwohnheime\")"
   ]
  },
  {
   "cell_type": "code",
   "execution_count": null,
   "id": "b9fdd52d-2967-4223-87c6-08d8c825f908",
   "metadata": {},
   "outputs": [],
   "source": [
    "fig, ax = plt.subplots()\n",
    "\n",
    "(df_fordervolumen[\"Modernisierung\"] / df_fordereinheiten[\"Modernisierung\"]).plot.bar()\n",
    "plt.ylabel(\"Fördervolumen pro Fördereinheit / €\")\n",
    "plt.title(\"Nur Modernisierungsmaßnahmen\")"
   ]
  },
  {
   "cell_type": "markdown",
   "id": "71d52ea7-9ed7-48d7-96de-b950cd42e1f0",
   "metadata": {},
   "source": [
    "## Bevölkerungszahlen"
   ]
  },
  {
   "cell_type": "code",
   "execution_count": null,
   "id": "7410b2d0-f771-4b59-9178-8420e604bf37",
   "metadata": {},
   "outputs": [],
   "source": [
    "df_wohnungen[\"Belegungsziffer\"].plot(label=\"Offiziell\")\n",
    "(df_bevolkerung[\"Insgesamt\"] / df_wohnungen[\"Wohnungen\"]).plot(label=\"Berechnet\")\n",
    "\n",
    "plt.ylabel(\"Belegungsziffer\")\n",
    "plt.legend()"
   ]
  },
  {
   "cell_type": "code",
   "execution_count": null,
   "id": "1aef98c6-6143-4f89-aad4-f0065f3376fc",
   "metadata": {},
   "outputs": [],
   "source": [
    "df_bevolkerung.Insgesamt.diff() - df_zuzug.Wanderungsbilanz - df_zuzug.Geburtenbilanz"
   ]
  }
 ],
 "metadata": {
  "kernelspec": {
   "display_name": "Python 3",
   "language": "python",
   "name": "python3"
  },
  "language_info": {
   "codemirror_mode": {
    "name": "ipython",
    "version": 3
   },
   "file_extension": ".py",
   "mimetype": "text/x-python",
   "name": "python",
   "nbconvert_exporter": "python",
   "pygments_lexer": "ipython3",
   "version": "3.8.2"
  }
 },
 "nbformat": 4,
 "nbformat_minor": 5
}
