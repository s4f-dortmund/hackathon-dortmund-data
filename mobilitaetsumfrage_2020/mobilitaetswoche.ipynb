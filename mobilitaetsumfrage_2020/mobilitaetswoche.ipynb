{
 "cells": [
  {
   "cell_type": "code",
   "execution_count": null,
   "id": "312b21f6",
   "metadata": {},
   "outputs": [],
   "source": [
    "import pandas as pd\n",
    "import matplotlib.pyplot as plt\n",
    "import numpy as np\n",
    "\n",
    "from cartopy import crs\n",
    "from cartopy.io.shapereader import Reader\n",
    "from cartopy.feature import ShapelyFeature, BORDERS\n",
    "\n",
    "%matplotlib notebook"
   ]
  },
  {
   "cell_type": "code",
   "execution_count": null,
   "id": "619b3361",
   "metadata": {},
   "outputs": [],
   "source": [
    "def p25(s):\n",
    "    return s.quantile(0.25)\n",
    "\n",
    "def p75(s):\n",
    "    return s.quantile(0.75)\n",
    "\n",
    "def p90(s):\n",
    "    return s.quantile(0.9)\n",
    "\n",
    "\n",
    "def read_haushalte():\n",
    "    df = pd.read_json('./data/haushalte.json')\n",
    "    \n",
    "    \n",
    "    rename = {\n",
    "        'Fußweg in Minuten zur nächsten Haltestelle von Bus': 'distance_bus',\n",
    "        'Fußweg in Minuten zur nächsten Haltestelle von U- / Straßen- / Stadtbahn': 'distance_metro',\n",
    "        'Fußweg in Minuten zur nächsten Haltestelle von S-Bahn / Nahverkehr': 'distance_train',\n",
    "    }\n",
    "\n",
    "    df.rename(columns=rename, inplace=True)\n",
    "    \n",
    "    numeric_columns = [\n",
    "        'distance_bus',\n",
    "        'distance_metro',\n",
    "        'distance_train',\n",
    "    ]\n",
    "    \n",
    "    persons = df['Anzahl der im Haushalt ständig lebenden Personen']\n",
    "    \n",
    "    df['cars_per_person'] = df['Anzahl der KFZ'] / persons\n",
    "    df['bicycles_per_person'] = df['Anzahl der betriebsbereiten Fahrräder im HH'] / persons\n",
    "    df['motorbikes_per_person'] = df['Anzahl der motorisierten Zweiräder im HH'] / persons\n",
    "    \n",
    "    for col in numeric_columns:\n",
    "        df[col] = pd.to_numeric(df[col], errors='coerce')\n",
    "    \n",
    "    col = 'Wohnort Stadtbezirk Text'\n",
    "    for before, after in {'ü': 'ue', 'ö': 'oe', '-': ' '}.items():\n",
    "        df[col] = df[col].str.replace(before, after)\n",
    "    \n",
    "    return df"
   ]
  },
  {
   "cell_type": "code",
   "execution_count": null,
   "id": "a5b28044",
   "metadata": {},
   "outputs": [],
   "source": [
    "haushalte = read_haushalte()"
   ]
  },
  {
   "cell_type": "code",
   "execution_count": null,
   "id": "50777e51",
   "metadata": {},
   "outputs": [],
   "source": [
    "print(*haushalte.head(), sep='\\n') "
   ]
  },
  {
   "cell_type": "code",
   "execution_count": null,
   "id": "10bc0d5c",
   "metadata": {},
   "outputs": [],
   "source": [
    "haushalte['distance_bus'].hist(bins=np.arange(0, 25) - 0.5)\n",
    "plt.xlabel('Fußweg zur nächsten Bushaltestelle / min')"
   ]
  },
  {
   "cell_type": "code",
   "execution_count": null,
   "id": "9ade49a8",
   "metadata": {},
   "outputs": [],
   "source": [
    "from functools import lru_cache\n",
    "\n",
    "\n",
    "@lru_cache(maxsize=1)\n",
    "def read_shapes():\n",
    "    reader = Reader('./data/Stadtbezirk.shp')\n",
    "\n",
    "    feature = ShapelyFeature(\n",
    "        reader.geometries(),\n",
    "        crs=crs.TransverseMercator(\n",
    "            approx=False,\n",
    "            central_longitude=9,\n",
    "            false_easting=500_000,\n",
    "            false_northing=0,\n",
    "            scale_factor=0.9996,\n",
    "            globe=crs.Globe(ellipse='GRS80'),\n",
    "        ),\n",
    "\n",
    "    )\n",
    "\n",
    "    corrections = {\n",
    "        'Schanhorst': 'Scharnhorst'\n",
    "    }\n",
    "\n",
    "    names = [\n",
    "        corrections.get(r.attributes['NAME'], r.attributes['NAME'])\n",
    "        for r in reader.records()\n",
    "    ]\n",
    "    names\n",
    "    \n",
    "    return reader, feature, names"
   ]
  },
  {
   "cell_type": "code",
   "execution_count": null,
   "id": "540d92a7",
   "metadata": {
    "scrolled": false
   },
   "outputs": [],
   "source": [
    "from matplotlib.colors import Normalize\n",
    "from matplotlib.cm import ScalarMappable\n",
    "from cartopy.io import img_tiles\n",
    "\n",
    "def plot_stadtbezirke(series, label, cmap='inferno', **kwargs):\n",
    "    \n",
    "    reader, feature, names = read_shapes()\n",
    "    \n",
    "    norm = Normalize(vmin=series.min(), vmax=series.max())\n",
    "    cmap = plt.get_cmap(cmap)\n",
    "    sm = ScalarMappable(cmap=cmap, norm=norm)\n",
    "\n",
    "    request = img_tiles.OSM()\n",
    "   \n",
    "    fig = plt.figure(constrained_layout=True, figsize=(9, 6))\n",
    "    ax = fig.add_subplot(1, 1, 1, projection=request.crs)\n",
    "    ax.set_extent([7.3, 7.65, 51.41, 51.61])\n",
    "    ax.add_image(request, 12)\n",
    "    \n",
    "    values = series.loc[names] \n",
    "\n",
    "    artist = ax.add_feature(\n",
    "        feature,\n",
    "        facecolor=[cmap(norm(v)) for v in values],\n",
    "        **kwargs\n",
    "    )\n",
    "\n",
    "\n",
    "    ax.set_title(label)\n",
    "    fig.colorbar(sm, ax=ax)\n",
    "    \n",
    "    return ax"
   ]
  },
  {
   "cell_type": "code",
   "execution_count": null,
   "id": "aac5a6e4",
   "metadata": {
    "scrolled": false
   },
   "outputs": [],
   "source": [
    "\n",
    "for col in ['bus', 'metro', 'train']:\n",
    "\n",
    "    train_distance_by_area = (\n",
    "        haushalte\n",
    "        .groupby('Wohnort Stadtbezirk Text')\n",
    "        [f'distance_{col}']\n",
    "        .agg(p75)\n",
    "    )\n",
    "    plot_stadtbezirke(\n",
    "        train_distance_by_area,\n",
    "        label=f'75% Quantil Fußweg {col} Haltestelle in Min.',\n",
    "        alpha=0.5,\n",
    "    )"
   ]
  },
  {
   "cell_type": "code",
   "execution_count": null,
   "id": "d973157a",
   "metadata": {},
   "outputs": [],
   "source": [
    "(\n",
    "    haushalte\n",
    "    .groupby('Wohnort Stadtbezirk Text')[['distance_bus', 'distance_metro', 'distance_train', 'Anzahl der KFZ']]\n",
    "    .agg([p25, 'median', 'mean', p75])\n",
    ")"
   ]
  },
  {
   "cell_type": "code",
   "execution_count": null,
   "id": "451818b2",
   "metadata": {},
   "outputs": [],
   "source": [
    "haushalte.groupby('Wohnort Stadtbezirk Text')['cars_per_person'].describe()"
   ]
  },
  {
   "cell_type": "code",
   "execution_count": null,
   "id": "2229c3b6",
   "metadata": {},
   "outputs": [],
   "source": [
    "plot_stadtbezirke(\n",
    "    haushalte.groupby('Wohnort Stadtbezirk Text')['cars_per_person'].mean(),\n",
    "    label='Mittlere Anzahl KFZs pro Person',\n",
    "    alpha=0.5,\n",
    ")"
   ]
  },
  {
   "cell_type": "code",
   "execution_count": null,
   "id": "4c25d644",
   "metadata": {},
   "outputs": [],
   "source": [
    "plot_stadtbezirke(\n",
    "    haushalte.groupby('Wohnort Stadtbezirk Text')['bicycles_per_person'].mean(),\n",
    "    label='Mittlere Anzahl Fahrräder pro Person',\n",
    "    alpha=0.5,\n",
    ")"
   ]
  },
  {
   "cell_type": "code",
   "execution_count": null,
   "id": "51003dc6",
   "metadata": {},
   "outputs": [],
   "source": [
    "plot_stadtbezirke(\n",
    "    haushalte.groupby('Wohnort Stadtbezirk Text')['motorbikes_per_person'].mean(),\n",
    "    label='Mittlere Anzahl Fahrräder pro Person',\n",
    "    alpha=0.5,\n",
    ")"
   ]
  }
 ],
 "metadata": {
  "kernelspec": {
   "display_name": "Python 3",
   "language": "python",
   "name": "python3"
  },
  "language_info": {
   "codemirror_mode": {
    "name": "ipython",
    "version": 3
   },
   "file_extension": ".py",
   "mimetype": "text/x-python",
   "name": "python",
   "nbconvert_exporter": "python",
   "pygments_lexer": "ipython3",
   "version": "3.8.8"
  }
 },
 "nbformat": 4,
 "nbformat_minor": 5
}
