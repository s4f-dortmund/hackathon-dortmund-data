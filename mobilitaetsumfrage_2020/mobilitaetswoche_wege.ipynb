{
 "cells": [
  {
   "cell_type": "markdown",
   "id": "3bff7009-6bfe-407a-b236-534c644a6ac1",
   "metadata": {},
   "source": [
    "## Erkenntis / Aussagen\n",
    "* Kfz-Fahrten machen ca. 50% aller Wege aus\n",
    "* Kfz-Fahrten werden hauptsächlich für kurze Wege benutzt, ca. 38% der Fahrten <= 5km\n",
    "\n",
    "\n",
    "## Ideen\n",
    "* Fahrten auf Karte einzeichen mit Anfragen über Google Maps Routing\n",
    "* Histogramm der Fahrten stadtteilaufgelöst\n",
    "* Pro Stadtteil die mittleren Wege mit bestimmten Verkehrsmitteln\n",
    "* Chord-Plot wer fährt von wo nach wo? Wie häufig werden Fahrten zwischen Bezirken gemacht?\n",
    "* Sankey-Diagramm der Fahrten \n",
    "    * links Stadtbezirke und rechts Stadtbezirke\n",
    "    * ähnlich zu Wählerwanderungs-Plots\n",
    "\n"
   ]
  },
  {
   "cell_type": "code",
   "execution_count": null,
   "id": "312b21f6",
   "metadata": {},
   "outputs": [],
   "source": [
    "import pandas as pd\n",
    "import matplotlib.pyplot as plt\n",
    "import numpy as np"
   ]
  },
  {
   "cell_type": "code",
   "execution_count": null,
   "id": "619b3361",
   "metadata": {},
   "outputs": [],
   "source": [
    "def read_haushalte():\n",
    "    df = pd.read_json('./data/haushalte.json')\n",
    "    \n",
    "    \n",
    "    rename = {\n",
    "        'Fußweg in Minuten zur nächsten Haltestelle von Bus': 'distance_bus',\n",
    "        'Fußweg in Minuten zur nächsten Haltestelle von U- / Straßen- / Stadtbahn': 'distance_metro',\n",
    "        'Fußweg in Minuten zur nächsten Haltestelle von S-Bahn / Nahverkehr': 'distance_train',\n",
    "    }\n",
    "\n",
    "    df.rename(columns=rename, inplace=True)\n",
    "    \n",
    "    numeric_columns = [\n",
    "        'distance_bus',\n",
    "        'distance_metro',\n",
    "        'distance_train',\n",
    "    ]\n",
    "    \n",
    "    persons = df['Anzahl der im Haushalt ständig lebenden Personen']\n",
    "    \n",
    "    df['cars_per_person'] = df['Anzahl der KFZ'] / persons\n",
    "    df['bicycles_per_person'] = df['Anzahl der betriebsbereiten Fahrräder im HH'] / persons\n",
    "    df['motorbikes_per_person'] = df['Anzahl der motorisierten Zweiräder im HH'] / persons\n",
    "    \n",
    "    for col in numeric_columns:\n",
    "        df[col] = pd.to_numeric(df[col], errors='coerce')\n",
    "    \n",
    "    col = 'Wohnort Stadtbezirk Text'\n",
    "    for before, after in {'ü': 'ue', 'ö': 'oe', '-': ' '}.items():\n",
    "        df[col] = df[col].str.replace(before, after)\n",
    "    \n",
    "    return df\n"
   ]
  },
  {
   "cell_type": "code",
   "execution_count": null,
   "id": "7a2fef72-525e-4c6a-96a7-7c16a0996cc0",
   "metadata": {},
   "outputs": [],
   "source": [
    "def read_wege():\n",
    "    wege = pd.read_csv(\"./data/wege.csv\", sep=\";\", decimal=\",\")\n",
    "    return wege"
   ]
  },
  {
   "cell_type": "code",
   "execution_count": null,
   "id": "2af6337c-763e-4488-9a3d-0737bc585292",
   "metadata": {},
   "outputs": [],
   "source": [
    "def read_personen():\n",
    "    df = pd.read_json('./data/personen.json')\n",
    "    \n",
    "    return df"
   ]
  },
  {
   "cell_type": "code",
   "execution_count": null,
   "id": "565df9c4-d3b5-4682-a847-d409706ba361",
   "metadata": {},
   "outputs": [],
   "source": [
    "wege = read_wege()\n",
    "haushalte = read_haushalte()\n",
    "personen = read_personen()"
   ]
  },
  {
   "cell_type": "markdown",
   "id": "2b14196c-cf9d-4baa-8416-70cc7aff5acf",
   "metadata": {},
   "source": [
    "### Zurückgelegte Wege nach Verkehrsmittel"
   ]
  },
  {
   "cell_type": "code",
   "execution_count": null,
   "id": "b7ffb7c5-a0bd-41d0-a65e-44cb1e07d2fe",
   "metadata": {},
   "outputs": [],
   "source": [
    "wege_nach_verkehrsmittel = wege.groupby(\"Hauptverkehrsmittel Text\")[\"Entfernung in [km] aus Routing GoogleMaps\"].describe()\n",
    "wege_nach_verkehrsmittel"
   ]
  },
  {
   "cell_type": "code",
   "execution_count": null,
   "id": "6d53d37c-e150-4537-9773-3a373b16664f",
   "metadata": {},
   "outputs": [],
   "source": [
    "ax = (\n",
    "    wege_nach_verkehrsmittel[\"count\"] *\n",
    "    wege_nach_verkehrsmittel[\"mean\"]\n",
    ").sort_values().plot.barh(figsize=(8, 8))\n",
    "\n",
    "ax.set_xlabel(\"Gesamte Strecke / km\")"
   ]
  },
  {
   "cell_type": "code",
   "execution_count": null,
   "id": "fbb9d5c4-9107-4728-a96a-6a5bfd393c96",
   "metadata": {},
   "outputs": [],
   "source": [
    "ax = (\n",
    "    wege_nach_verkehrsmittel[\"50%\"]\n",
    ").sort_values().plot.barh(figsize=(8, 8))\n",
    "\n",
    "ax.set_xlabel(\"Mittlere Strecke pro Fahrt / km\")"
   ]
  },
  {
   "cell_type": "code",
   "execution_count": null,
   "id": "e555832c-d28f-49a2-8c79-83fd921e0944",
   "metadata": {},
   "outputs": [],
   "source": [
    "ax = (\n",
    "    wege_nach_verkehrsmittel[\"count\"]\n",
    ").sort_values().plot.barh(figsize=(8, 8))\n",
    "\n",
    "ax.set_xlabel(\"Anzahl Fahrten\")"
   ]
  },
  {
   "cell_type": "markdown",
   "id": "d1fba6c7-0790-4ace-ab4f-fba603b2946b",
   "metadata": {},
   "source": [
    "### Verteilung der Wegsrecken nach Verkehrsmittel\n",
    "\n",
    "#### Gruppierung\n",
    "* (U-Bahn, S-, Straßen-, Stadtbahn & Bus) zu OPNV\n",
    "* (Fahrrad & E-Bike) zu Fahrrad \n",
    "* (Kfz Selbstfahrer, Mitfahrer, Taxi, Motorrad) zu Kfz"
   ]
  },
  {
   "cell_type": "code",
   "execution_count": null,
   "id": "008d72b5-20e3-4505-b86c-ab490e763ace",
   "metadata": {},
   "outputs": [],
   "source": [
    "wege[\"Hauptverkehrsmittel Gruppierung\"] = wege[\"Hauptverkehrsmittel Text\"]\n",
    "wege.loc[wege[\"Hauptverkehrsmittel Gruppierung\"].isin([\"U-Bahn / Straßen- /Stadtbahn\", \"S-Bahn / Nahverkehr\", \"Bus\"]), \"Hauptverkehrsmittel Gruppierung\"] = \"Nahverkehr\"\n",
    "wege.loc[wege[\"Hauptverkehrsmittel Gruppierung\"].isin([\"Fahrrad\", \"E-Bike / Pedelec\"]), \"Hauptverkehrsmittel Gruppierung\"] = \"Fahrrad\"\n",
    "wege.loc[wege[\"Hauptverkehrsmittel Gruppierung\"].isin([\"Kfz Selbstfahrer\", \"Kfz Mitfahrer\", \"Taxi\", \"Motorrad\"]), \"Hauptverkehrsmittel Gruppierung\"] = \"Kfz\" # Taxi, "
   ]
  },
  {
   "cell_type": "code",
   "execution_count": null,
   "id": "cd42eb74-c2ab-4cb1-9544-0458cbb7f77e",
   "metadata": {},
   "outputs": [],
   "source": [
    "fig, ax = plt.subplots(figsize=(8, 4), dpi=200)\n",
    "for mittel in wege[\"Hauptverkehrsmittel Gruppierung\"].unique():\n",
    "    print(mittel)\n",
    "    wege_mittel = wege[wege[\"Hauptverkehrsmittel Gruppierung\"] == mittel][\"Entfernung in [km] aus Routing GoogleMaps\"]\n",
    "    (wege_mittel / wege_mittel.quantile(0.95)).hist(ax=ax, bins=np.linspace(0, 1, 51), density=True, label=mittel, histtype=\"step\")\n",
    "    \n",
    "ax.legend()"
   ]
  },
  {
   "cell_type": "markdown",
   "id": "70ee6f28-51f6-470e-9967-f1a223d430ce",
   "metadata": {},
   "source": [
    "##### Verteilung der Haushalte nach Stadtbezirken"
   ]
  },
  {
   "cell_type": "code",
   "execution_count": null,
   "id": "6493a8b3-d8dc-47cc-92fc-8278491b15d4",
   "metadata": {},
   "outputs": [],
   "source": [
    "# Haushalts-Stadtbezirk für Wege aus Haushalten, join über Personen-ID\n",
    "# Join (Personen.HaushaltID, Haushalt.ID + Wohnort)\n",
    "# Join (Wege.PersonenID, Personen.ID + HaushaltID)\n",
    "\n",
    "personen_mit_stadtbezirk = haushalte[\n",
    "    [\"ID\", \"Wohnort Stadtbezirk Text\"]\n",
    "].join(personen[[\"ID\", \"HaushaltID\"]].set_index(\"HaushaltID\"), on=\"ID\", rsuffix=\"_personen\")\n",
    "\n",
    "wege_mit_stadtbezirk = wege.join(personen_mit_stadtbezirk.set_index(\"ID_personen\")[\"Wohnort Stadtbezirk Text\"], on=\"Personen ID\")"
   ]
  },
  {
   "cell_type": "code",
   "execution_count": null,
   "id": "2ff384b9-7607-4ee1-8fa5-3facaa246478",
   "metadata": {},
   "outputs": [],
   "source": [
    "verkehrsmittel = [\"Kfz\", \"Fahrrad\", \"Nahverkehr\", \"Fuss\", \"Fernverkehr\", \"Sonstiges\"]"
   ]
  },
  {
   "cell_type": "code",
   "execution_count": null,
   "id": "cd962c32-6c88-4d96-9026-057b2e836df7",
   "metadata": {},
   "outputs": [],
   "source": [
    "mittel_to_color = {\n",
    "    mittel : f\"C{i}\"\n",
    "    for i, mittel in enumerate(verkehrsmittel)\n",
    "}"
   ]
  },
  {
   "cell_type": "code",
   "execution_count": null,
   "id": "07f4c84f-69d8-4c56-8f01-70a6dcb6a6b7",
   "metadata": {},
   "outputs": [],
   "source": [
    "fig, ax = plt.subplots(figsize=(8, 4), dpi=200)\n",
    "for mittel in verkehrsmittel:\n",
    "    print(mittel)\n",
    "    wege_mittel = wege[wege[\"Hauptverkehrsmittel Gruppierung\"] == mittel][\"Entfernung in [km] aus Routing GoogleMaps\"]\n",
    "    (wege_mittel).hist(ax=ax, bins=np.linspace(0, 20, 41), label=mittel, histtype=\"step\", color=mittel_to_color[mittel])\n",
    "    \n",
    "ax.set(ylabel=\"Anzahl Fahrten\", xlabel=\"Zurückgelegte Kilometer\")\n",
    "ax.legend()"
   ]
  },
  {
   "cell_type": "markdown",
   "id": "26e0c5b3-27d6-41fb-bafd-b78778f534cb",
   "metadata": {},
   "source": [
    "Filtern nach Stadtbezirk"
   ]
  },
  {
   "cell_type": "code",
   "execution_count": null,
   "id": "69377627-1937-4224-b77b-ae41eb06be47",
   "metadata": {},
   "outputs": [],
   "source": [
    "stadtbezirke = sorted(wege_mit_stadtbezirk[\"Wohnort Stadtbezirk Text\"].dropna().unique())"
   ]
  },
  {
   "cell_type": "code",
   "execution_count": null,
   "id": "43f5391e-5382-47a9-9c6b-79eb1ef5d5a7",
   "metadata": {},
   "outputs": [],
   "source": [
    "fig, axes = plt.subplots(figsize=(14, 10), dpi=200, ncols=4, nrows=3, constrained_layout=True, gridspec_kw={\"hspace\": 0.1})\n",
    "axes = axes.flatten()\n",
    "\n",
    "for bezirk, ax in zip(stadtbezirke, axes):\n",
    "    wege_bezirk_einzeln = wege_mit_stadtbezirk[\n",
    "        wege_mit_stadtbezirk[\"Wohnort Stadtbezirk Text\"] == bezirk\n",
    "    ]\n",
    "    for mittel in verkehrsmittel:\n",
    "        wege_mittel = wege_bezirk_einzeln[\n",
    "            wege_bezirk_einzeln[\"Hauptverkehrsmittel Gruppierung\"] == mittel\n",
    "        ][\"Entfernung in [km] aus Routing GoogleMaps\"]\n",
    "        (wege_mittel).hist(ax=ax, bins=np.linspace(0, 20, 41), label=mittel, histtype=\"step\", color=mittel_to_color[mittel])\n",
    "\n",
    "    ax.set(ylabel=\"Anzahl Fahrten\", xlabel=\"Zurückgelegte Kilometer\", title=bezirk)\n",
    "\n",
    "plt.figlegend(verkehrsmittel, bbox_to_anchor=(0.5, 1.05), ncol=6, loc=\"upper center\")"
   ]
  },
  {
   "cell_type": "markdown",
   "id": "fc63e006-7eff-4f37-91b5-c346504da7fc",
   "metadata": {},
   "source": [
    "#### Statistik zum Anteil Kfz-Wegen"
   ]
  },
  {
   "cell_type": "code",
   "execution_count": null,
   "id": "92ddd5ae-830d-43d5-a9f8-21a6e13e6d16",
   "metadata": {},
   "outputs": [],
   "source": [
    "wege_kfz_count = wege.loc[(wege[\"Hauptverkehrsmittel Gruppierung\"] == \"Kfz\")].shape[0]\n",
    "wege_kfz_kurz_count = wege.loc[(wege[\"Hauptverkehrsmittel Gruppierung\"] == \"Kfz\") & (wege[\"Entfernung in [km] aus Routing GoogleMaps\"] <= 5)].shape[0]"
   ]
  },
  {
   "cell_type": "markdown",
   "id": "1f845c80-0e06-4675-b824-39bd534d0c04",
   "metadata": {},
   "source": [
    "Anteil Kfz-Wege < 5km"
   ]
  },
  {
   "cell_type": "code",
   "execution_count": null,
   "id": "3f08d337-3921-4708-beb0-90134336640b",
   "metadata": {},
   "outputs": [],
   "source": [
    "wege_kfz_kurz_count / wege_kfz_count"
   ]
  },
  {
   "cell_type": "markdown",
   "id": "5ee4d15d-bf43-4197-99d1-795b61192ee5",
   "metadata": {},
   "source": [
    "Anteil Kfz-Wege an allen Wegen"
   ]
  },
  {
   "cell_type": "code",
   "execution_count": null,
   "id": "96c007dc-1f9c-4946-afcd-ad65b03605a2",
   "metadata": {},
   "outputs": [],
   "source": [
    "wege_kfz_count / wege.shape[0]"
   ]
  }
 ],
 "metadata": {
  "kernelspec": {
   "display_name": "Python 3",
   "language": "python",
   "name": "python3"
  },
  "language_info": {
   "codemirror_mode": {
    "name": "ipython",
    "version": 3
   },
   "file_extension": ".py",
   "mimetype": "text/x-python",
   "name": "python",
   "nbconvert_exporter": "python",
   "pygments_lexer": "ipython3",
   "version": "3.8.2"
  }
 },
 "nbformat": 4,
 "nbformat_minor": 5
}
